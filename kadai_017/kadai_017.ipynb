{
  "nbformat": 4,
  "nbformat_minor": 0,
  "metadata": {
    "colab": {
      "provenance": []
    },
    "kernelspec": {
      "name": "python3",
      "display_name": "Python 3"
    },
    "language_info": {
      "name": "python"
    }
  },
  "cells": [
    {
      "cell_type": "code",
      "execution_count": 2,
      "metadata": {
        "colab": {
          "base_uri": "https://localhost:8080/"
        },
        "id": "D4TijMvsmKPC",
        "outputId": "ee8138c9-c57b-40a3-8cba-426ae18fe493"
      },
      "outputs": [
        {
          "output_type": "stream",
          "name": "stdout",
          "text": [
            "Taroは大人です。\n",
            "Hanakoは大人ではありません。\n",
            "Kenは大人です。\n"
          ]
        }
      ],
      "source": [
        "class Human:\n",
        "    def __init__(self, name, age):\n",
        "        # インスタンス生成時に渡された引数を属性に設定\n",
        "        self.name = name\n",
        "        self.age = age\n",
        "\n",
        "    def check_adult(self):\n",
        "        # 条件分岐を用い、20以上なら「大人」、それ以外「大人ではありません」\n",
        "        if self.age >= 20:\n",
        "            print(f\"{self.name}は大人です。\")\n",
        "        else:\n",
        "            print(f\"{self.name}は大人ではありません。\")\n",
        "\n",
        "def main():\n",
        "    # 複数の人名と年齢をディクショナリで管理\n",
        "    data_list = [\n",
        "        {\"name\": \"Taro\",   \"age\": 25},\n",
        "        {\"name\": \"Hanako\", \"age\": 19},\n",
        "        {\"name\": \"Ken\",    \"age\": 20}\n",
        "    ]\n",
        "\n",
        "    # Humanクラスのインスタンスを入れるリスト\n",
        "    human_list = []\n",
        "\n",
        "    # data_list(ディクショナリのリスト)からHumanインスタンスを生成してリストに追加\n",
        "    for data in data_list:\n",
        "        person = Human(data[\"name\"], data[\"age\"])\n",
        "        human_list.append(person)\n",
        "\n",
        "    # リストに追加したインスタンスの数だけ繰り返し処理し、check_adultを呼び出す\n",
        "    for person in human_list:\n",
        "        person.check_adult()\n",
        "\n",
        "main()"
      ]
    }
  ]
}