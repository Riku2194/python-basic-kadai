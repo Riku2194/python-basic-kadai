{
  "nbformat": 4,
  "nbformat_minor": 0,
  "metadata": {
    "colab": {
      "provenance": []
    },
    "kernelspec": {
      "name": "python3",
      "display_name": "Python 3"
    },
    "language_info": {
      "name": "python"
    }
  },
  "cells": [
    {
      "cell_type": "code",
      "execution_count": 1,
      "metadata": {
        "colab": {
          "base_uri": "https://localhost:8080/"
        },
        "id": "L55QhhX1R2AA",
        "outputId": "462bdf25-2139-417a-9b06-0053fa1acd17"
      },
      "outputs": [
        {
          "output_type": "execute_result",
          "data": {
            "text/plain": [
              "121.0"
            ]
          },
          "metadata": {},
          "execution_count": 1
        }
      ],
      "source": [
        "def calc_price_including_tax(price, tax_rate):\n",
        "  # 消費税を計算\n",
        "    tax = price * tax_rate / 100\n",
        "  # 支払金額( 税込み )を算出\n",
        "    total_price = price + tax\n",
        "  # 呼び出し先に計算結果を返す\n",
        "    return total_price\n",
        "# 関数を呼び出す\n",
        "calc_price_including_tax(110, 10)"
      ]
    }
  ]
}