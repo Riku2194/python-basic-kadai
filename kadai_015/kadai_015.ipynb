{
  "nbformat": 4,
  "nbformat_minor": 0,
  "metadata": {
    "colab": {
      "provenance": []
    },
    "kernelspec": {
      "name": "python3",
      "display_name": "Python 3"
    },
    "language_info": {
      "name": "python"
    }
  },
  "cells": [
    {
      "cell_type": "code",
      "execution_count": 4,
      "metadata": {
        "colab": {
          "base_uri": "https://localhost:8080/"
        },
        "id": "2r3d6cu7ZaGB",
        "outputId": "bf4dbefb-167d-4b16-f1ad-594901688550"
      },
      "outputs": [
        {
          "output_type": "stream",
          "name": "stdout",
          "text": [
            "Riku\n",
            "29\n"
          ]
        }
      ],
      "source": [
        "class Human:\n",
        "    def __init__(self, name, age):\n",
        "        # インスタンス生成時に渡された引数を属性に設定\n",
        "        self.name = name\n",
        "        self.age = age\n",
        "\n",
        "    def printinfo(self):\n",
        "        # 名前と年齢を表示\n",
        "        print(self.name)\n",
        "        print(self.age)\n",
        "\n",
        "# Humanクラスのインスタンスを作成し、変数personに代入\n",
        "person = Human(\"Riku\", 29)\n",
        "\n",
        "# メソッドを利用して名前と年齢を表示\n",
        "person.printinfo()\n",
        "\n"
      ]
    }
  ]
}