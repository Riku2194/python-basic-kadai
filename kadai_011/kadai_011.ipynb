{
  "nbformat": 4,
  "nbformat_minor": 0,
  "metadata": {
    "colab": {
      "provenance": []
    },
    "kernelspec": {
      "name": "python3",
      "display_name": "Python 3"
    },
    "language_info": {
      "name": "python"
    }
  },
  "cells": [
    {
      "cell_type": "code",
      "execution_count": 1,
      "metadata": {
        "colab": {
          "base_uri": "https://localhost:8080/"
        },
        "id": "Ta47ylPXgCv4",
        "outputId": "ee10f0bb-00a4-401b-8947-74b13976491e"
      },
      "outputs": [
        {
          "output_type": "stream",
          "name": "stdout",
          "text": [
            "水\n",
            "金\n",
            "地\n",
            "火\n",
            "木\n",
            "土\n",
            "天\n",
            "海\n",
            "冥\n",
            "水\n",
            "金\n",
            "地\n",
            "火\n",
            "木\n",
            "土\n",
            "天\n",
            "海\n",
            "冥\n"
          ]
        }
      ],
      "source": [
        "array = [\"水\",\"金\",\"地\",\"火\",\"木\",\"土\",\"天\",\"海\",\"冥\"]\n",
        "\n",
        "for planet in array:\n",
        "  print(planet)\n",
        "  if (planet == \"冥\"):\n",
        "    break\n",
        "\n",
        "i = 0  # インデックスの初期化\n",
        "while i < len(array):  # 配列の長さ未満の間ループ\n",
        "  print(array[i])  # 要素を出力\n",
        "  if (array[i] == \"冥\"):  # \"冥\" ならループを終了\n",
        "    break\n",
        "  i += 1  # インデックスを1増やす"
      ]
    }
  ]
}