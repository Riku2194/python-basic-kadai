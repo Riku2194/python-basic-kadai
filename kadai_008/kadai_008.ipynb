{
  "nbformat": 4,
  "nbformat_minor": 0,
  "metadata": {
    "colab": {
      "provenance": []
    },
    "kernelspec": {
      "name": "python3",
      "display_name": "Python 3"
    },
    "language_info": {
      "name": "python"
    }
  },
  "cells": [
    {
      "cell_type": "code",
      "execution_count": 6,
      "metadata": {
        "colab": {
          "base_uri": "https://localhost:8080/"
        },
        "id": "WpqxpxjNWXNs",
        "outputId": "52508fa2-985e-4ccd-f76d-3a3ddac9ec13"
      },
      "outputs": [
        {
          "output_type": "stream",
          "name": "stdout",
          "text": [
            "Fizz \n"
          ]
        }
      ],
      "source": [
        "var = 18\n",
        "if var % 15 ==0:\n",
        "      print (\"FizzBuzz\")\n",
        "elif var % 3 == 0:\n",
        "      print (\"Fizz\")\n",
        "elif var % 5 ==0:\n",
        "      print (\"Buzz\")\n",
        "else:\n",
        "      print(var)"
      ]
    }
  ]
}